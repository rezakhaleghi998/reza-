{
 "cells": [
  {
   "cell_type": "code",
   "execution_count": 26,
   "source": [
    "import pandas as pd\r\n",
    "df=pd.read_csv(r\"C:\\Users\\rezvan\\Desktop\\file\\New folder (10)\\Book3.csv\")\r\n",
    "print(df)\r\n",
    "\r\n"
   ],
   "outputs": [
    {
     "output_type": "stream",
     "name": "stdout",
     "text": [
      "    SalesID  OrderID  Customer  Product   Date   Quantity   UnitPrice\n",
      "0         1         1       C1       P1       1          2        100\n",
      "1         2         1        C1       P2      1          4        150\n",
      "2         3         2       C2       P2       1          5        150\n",
      "3         4         3       C3       P4       1          3        550\n",
      "4         5         4        C4       P3      1          1        300\n",
      "5         6         4        C4       P6      1          6        150\n",
      "6         7         4        C4      P4       1          6        550\n",
      "7         8         5        C5       P2      1          3        150\n",
      "8         9         5        C5       P1      2          6        100\n",
      "9        10         6        C2       P3      2          1        300\n",
      "10       11         6        C2      P4       2          3        550\n",
      "11       12         6        C2       P5      2          6        400\n",
      "12       13         6        C2       P1      2          4        100\n",
      "13       14         7        C4       P6      2          3        150\n",
      "14       15         8        C6       P3      2          2        300\n",
      "15       16         8        C6      P4       2          3        550\n",
      "16       17         9        C7       P1      2          5        100\n",
      "17       18         9        C7       P2      2          3        150\n",
      "18       19         9        C7       P3      2          1        300\n",
      "19       20        10        C1      P4       3          6        550\n",
      "20       21        11        C2       P5      3          3        400\n",
      "21       22        12        C8       P1      3          6        100\n",
      "22       23        12        C8       P3      3          3        300\n",
      "23       24        12        C8       P5      3          5        400\n",
      "24       25        13        C9       P2      3          2        150\n"
     ]
    }
   ],
   "metadata": {}
  },
  {
   "cell_type": "code",
   "execution_count": 80,
   "source": [
    "df1=df['Quantity ']\r\n",
    "df2=df['UnitPrice']"
   ],
   "outputs": [],
   "metadata": {}
  },
  {
   "cell_type": "code",
   "execution_count": 50,
   "source": [
    "df3=df1*df2\r\n",
    "df4=df3.values\r\n",
    "print(df4)\r\n",
    "\r\n",
    "\r\n"
   ],
   "outputs": [
    {
     "output_type": "stream",
     "name": "stdout",
     "text": [
      "[ 200  600  750 1650  300  900 3300  450  600  300 1650 2400  400  450\n",
      "  600 1650  500  450  300 3300 1200  600  900 2000  300]\n"
     ]
    }
   ],
   "metadata": {}
  },
  {
   "cell_type": "code",
   "execution_count": 54,
   "source": [
    "df5=sum(df4)\r\n",
    "print(df5)  #مقدار فروش کل"
   ],
   "outputs": [
    {
     "output_type": "stream",
     "name": "stdout",
     "text": [
      "25750\n"
     ]
    }
   ],
   "metadata": {}
  },
  {
   "cell_type": "code",
   "execution_count": 77,
   "source": [
    "#تعداد کل مشتریان 9 تاست با توجه به csv ساخته شده\r\n",
    "#2"
   ],
   "outputs": [],
   "metadata": {}
  },
  {
   "cell_type": "code",
   "execution_count": 89,
   "source": [
    "df6=('p1=2300,p2=2550,p3=2400,p4=7700,p5=5600,p6=1350')\r\n",
    "#با توجه به دیتا ست بدست میاید\r\n",
    "#3"
   ],
   "outputs": [],
   "metadata": {}
  },
  {
   "cell_type": "code",
   "execution_count": 102,
   "source": [
    "pf=list((5,25,10,20,10,10))\r\n",
    "f1=list((2300,2550,2400,7700,5600,1350))\r\n",
    "\r\n"
   ],
   "outputs": [],
   "metadata": {}
  },
  {
   "cell_type": "code",
   "execution_count": 108,
   "source": [
    "a1=list(pf)\r\n",
    "a2=list(f1)\r\n",
    "print(a1)"
   ],
   "outputs": [
    {
     "output_type": "stream",
     "name": "stdout",
     "text": [
      "[5, 25, 10, 20, 10, 10]\n"
     ]
    }
   ],
   "metadata": {}
  },
  {
   "cell_type": "code",
   "execution_count": 109,
   "source": [
    "print(a2)\r\n",
    "#درامد"
   ],
   "outputs": [
    {
     "output_type": "stream",
     "name": "stdout",
     "text": [
      "[2300, 2550, 2400, 7700, 5600, 1350]\n"
     ]
    }
   ],
   "metadata": {}
  },
  {
   "cell_type": "code",
   "execution_count": 131,
   "source": [
    "import numpy as np \r\n",
    "a1 = np.array(a1)\r\n",
    "a2=np.array(a2)\r\n",
    "a3=a2*a1/100\r\n",
    "print(a3)\r\n",
    "#سود هر محصول\r\n"
   ],
   "outputs": [
    {
     "output_type": "stream",
     "name": "stdout",
     "text": [
      "[ 115.   637.5  240.  1540.   560.   135. ]\n"
     ]
    }
   ],
   "metadata": {}
  },
  {
   "cell_type": "code",
   "execution_count": 134,
   "source": [
    "a4=sum(a3)\r\n",
    "print(a4)\r\n",
    "#سود کل"
   ],
   "outputs": [
    {
     "output_type": "stream",
     "name": "stdout",
     "text": [
      "3227.5\n"
     ]
    }
   ],
   "metadata": {}
  },
  {
   "cell_type": "code",
   "execution_count": null,
   "source": [],
   "outputs": [],
   "metadata": {}
  }
 ],
 "metadata": {
  "orig_nbformat": 4,
  "language_info": {
   "name": "python",
   "version": "3.9.7",
   "mimetype": "text/x-python",
   "codemirror_mode": {
    "name": "ipython",
    "version": 3
   },
   "pygments_lexer": "ipython3",
   "nbconvert_exporter": "python",
   "file_extension": ".py"
  },
  "kernelspec": {
   "name": "python3",
   "display_name": "Python 3.9.7 64-bit"
  },
  "interpreter": {
   "hash": "404d757f5d8a4ce6b18f1a6dbf8e0be7cfdcb7c9638cd747a7a2de147d9aa72a"
  }
 },
 "nbformat": 4,
 "nbformat_minor": 2
}